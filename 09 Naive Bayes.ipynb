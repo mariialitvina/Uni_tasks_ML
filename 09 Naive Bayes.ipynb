{
 "cells": [
  {
   "cell_type": "code",
   "execution_count": 1,
   "id": "a0191a48",
   "metadata": {},
   "outputs": [],
   "source": [
    "# Importing the libraries\n",
    "import numpy as np\n",
    "import matplotlib.pyplot as plt\n",
    "import pandas as pd"
   ]
  },
  {
   "cell_type": "code",
   "execution_count": 2,
   "id": "6a523f8d",
   "metadata": {},
   "outputs": [],
   "source": [
    "# Importing prepared dataset\n",
    "import pickle\n",
    "input = open('data_klast.pkl', 'rb')\n",
    "obj = pickle.load(input)\n",
    "input.close()\n",
    "X_train = obj[\"X_train\"]\n",
    "X_test = obj[\"X_test\"]\n",
    "y_train = obj[\"y_train\"]\n",
    "y_test = obj[\"y_test\"]"
   ]
  },
  {
   "cell_type": "code",
   "execution_count": 3,
   "id": "de13fe61",
   "metadata": {},
   "outputs": [],
   "source": [
    "# Fitting Naive Bayes to the Training set (4 variables)\n",
    "from sklearn.naive_bayes import GaussianNB\n",
    "nb = GaussianNB().fit(X_train, y_train)"
   ]
  },
  {
   "cell_type": "code",
   "execution_count": 4,
   "id": "bb1cccc0",
   "metadata": {},
   "outputs": [
    {
     "data": {
      "text/plain": [
       "0.765625"
      ]
     },
     "execution_count": 4,
     "metadata": {},
     "output_type": "execute_result"
    }
   ],
   "source": [
    "# Predicting the Test set results\n",
    "y_pred = nb.predict(X_test)\n",
    "nb.score(X_test,y_test)"
   ]
  },
  {
   "cell_type": "code",
   "execution_count": 5,
   "id": "45c32c65",
   "metadata": {},
   "outputs": [
    {
     "name": "stdout",
     "output_type": "stream",
     "text": [
      "[[284  56]\n",
      " [ 49  59]]\n"
     ]
    }
   ],
   "source": [
    "# Making the Confusion Matrix\n",
    "from sklearn.metrics import confusion_matrix\n",
    "cm = confusion_matrix(y_test, y_pred)\n",
    "print(cm)"
   ]
  },
  {
   "cell_type": "markdown",
   "id": "ceab1159",
   "metadata": {},
   "source": [
    "Точность = 76.5% Чувствительность = 54.6% Специфичность = 83.5%"
   ]
  },
  {
   "cell_type": "code",
   "execution_count": null,
   "id": "1cb3fd44",
   "metadata": {},
   "outputs": [],
   "source": []
  }
 ],
 "metadata": {
  "kernelspec": {
   "display_name": "Python 3",
   "language": "python",
   "name": "python3"
  },
  "language_info": {
   "codemirror_mode": {
    "name": "ipython",
    "version": 3
   },
   "file_extension": ".py",
   "mimetype": "text/x-python",
   "name": "python",
   "nbconvert_exporter": "python",
   "pygments_lexer": "ipython3",
   "version": "3.8.8"
  }
 },
 "nbformat": 4,
 "nbformat_minor": 5
}
