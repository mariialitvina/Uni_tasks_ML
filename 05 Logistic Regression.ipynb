{
 "cells": [
  {
   "cell_type": "code",
   "execution_count": 101,
   "id": "54f79557",
   "metadata": {},
   "outputs": [],
   "source": [
    "# Importing the libraries\n",
    "import numpy as np\n",
    "import matplotlib.pyplot as plt\n",
    "import pandas as pd"
   ]
  },
  {
   "cell_type": "markdown",
   "id": "9a5f648c",
   "metadata": {},
   "source": [
    "## Data preparation"
   ]
  },
  {
   "cell_type": "code",
   "execution_count": 102,
   "id": "cfcf42e6",
   "metadata": {
    "scrolled": true
   },
   "outputs": [
    {
     "data": {
      "text/html": [
       "<div>\n",
       "<style scoped>\n",
       "    .dataframe tbody tr th:only-of-type {\n",
       "        vertical-align: middle;\n",
       "    }\n",
       "\n",
       "    .dataframe tbody tr th {\n",
       "        vertical-align: top;\n",
       "    }\n",
       "\n",
       "    .dataframe thead th {\n",
       "        text-align: right;\n",
       "    }\n",
       "</style>\n",
       "<table border=\"1\" class=\"dataframe\">\n",
       "  <thead>\n",
       "    <tr style=\"text-align: right;\">\n",
       "      <th></th>\n",
       "      <th>Education</th>\n",
       "      <th>Marital_Status</th>\n",
       "      <th>Income</th>\n",
       "      <th>Kidhome</th>\n",
       "      <th>Recency</th>\n",
       "      <th>NumWebVisitsMonth</th>\n",
       "      <th>Complain</th>\n",
       "      <th>all_Response</th>\n",
       "      <th>Age</th>\n",
       "      <th>CustomerDayLong</th>\n",
       "      <th>MNT</th>\n",
       "      <th>all_Purchases</th>\n",
       "    </tr>\n",
       "  </thead>\n",
       "  <tbody>\n",
       "    <tr>\n",
       "      <th>0</th>\n",
       "      <td>2</td>\n",
       "      <td>4</td>\n",
       "      <td>58138.0</td>\n",
       "      <td>0</td>\n",
       "      <td>58</td>\n",
       "      <td>7.0</td>\n",
       "      <td>0.0</td>\n",
       "      <td>1.0</td>\n",
       "      <td>64.0</td>\n",
       "      <td>3314</td>\n",
       "      <td>1617.000000</td>\n",
       "      <td>25.0</td>\n",
       "    </tr>\n",
       "    <tr>\n",
       "      <th>1</th>\n",
       "      <td>2</td>\n",
       "      <td>4</td>\n",
       "      <td>46344.0</td>\n",
       "      <td>1</td>\n",
       "      <td>38</td>\n",
       "      <td>5.0</td>\n",
       "      <td>0.0</td>\n",
       "      <td>0.0</td>\n",
       "      <td>67.0</td>\n",
       "      <td>2764</td>\n",
       "      <td>27.000000</td>\n",
       "      <td>6.0</td>\n",
       "    </tr>\n",
       "    <tr>\n",
       "      <th>2</th>\n",
       "      <td>2</td>\n",
       "      <td>5</td>\n",
       "      <td>71613.0</td>\n",
       "      <td>0</td>\n",
       "      <td>26</td>\n",
       "      <td>4.0</td>\n",
       "      <td>0.0</td>\n",
       "      <td>0.0</td>\n",
       "      <td>56.0</td>\n",
       "      <td>2963</td>\n",
       "      <td>776.000000</td>\n",
       "      <td>21.0</td>\n",
       "    </tr>\n",
       "    <tr>\n",
       "      <th>3</th>\n",
       "      <td>2</td>\n",
       "      <td>5</td>\n",
       "      <td>26646.0</td>\n",
       "      <td>1</td>\n",
       "      <td>26</td>\n",
       "      <td>6.0</td>\n",
       "      <td>0.0</td>\n",
       "      <td>0.0</td>\n",
       "      <td>37.0</td>\n",
       "      <td>2790</td>\n",
       "      <td>53.000000</td>\n",
       "      <td>8.0</td>\n",
       "    </tr>\n",
       "    <tr>\n",
       "      <th>4</th>\n",
       "      <td>4</td>\n",
       "      <td>3</td>\n",
       "      <td>58293.0</td>\n",
       "      <td>1</td>\n",
       "      <td>94</td>\n",
       "      <td>5.0</td>\n",
       "      <td>0.0</td>\n",
       "      <td>0.0</td>\n",
       "      <td>40.0</td>\n",
       "      <td>2812</td>\n",
       "      <td>422.000000</td>\n",
       "      <td>19.0</td>\n",
       "    </tr>\n",
       "    <tr>\n",
       "      <th>...</th>\n",
       "      <td>...</td>\n",
       "      <td>...</td>\n",
       "      <td>...</td>\n",
       "      <td>...</td>\n",
       "      <td>...</td>\n",
       "      <td>...</td>\n",
       "      <td>...</td>\n",
       "      <td>...</td>\n",
       "      <td>...</td>\n",
       "      <td>...</td>\n",
       "      <td>...</td>\n",
       "      <td>...</td>\n",
       "    </tr>\n",
       "    <tr>\n",
       "      <th>2235</th>\n",
       "      <td>2</td>\n",
       "      <td>3</td>\n",
       "      <td>61223.0</td>\n",
       "      <td>0</td>\n",
       "      <td>46</td>\n",
       "      <td>5.0</td>\n",
       "      <td>0.0</td>\n",
       "      <td>0.0</td>\n",
       "      <td>54.0</td>\n",
       "      <td>3032</td>\n",
       "      <td>1294.524192</td>\n",
       "      <td>18.0</td>\n",
       "    </tr>\n",
       "    <tr>\n",
       "      <th>2236</th>\n",
       "      <td>4</td>\n",
       "      <td>5</td>\n",
       "      <td>64014.0</td>\n",
       "      <td>2</td>\n",
       "      <td>56</td>\n",
       "      <td>7.0</td>\n",
       "      <td>0.0</td>\n",
       "      <td>1.0</td>\n",
       "      <td>75.0</td>\n",
       "      <td>2670</td>\n",
       "      <td>444.000000</td>\n",
       "      <td>22.0</td>\n",
       "    </tr>\n",
       "    <tr>\n",
       "      <th>2237</th>\n",
       "      <td>2</td>\n",
       "      <td>2</td>\n",
       "      <td>56981.0</td>\n",
       "      <td>0</td>\n",
       "      <td>91</td>\n",
       "      <td>6.0</td>\n",
       "      <td>0.0</td>\n",
       "      <td>1.0</td>\n",
       "      <td>40.0</td>\n",
       "      <td>2806</td>\n",
       "      <td>1241.000000</td>\n",
       "      <td>19.0</td>\n",
       "    </tr>\n",
       "    <tr>\n",
       "      <th>2238</th>\n",
       "      <td>3</td>\n",
       "      <td>5</td>\n",
       "      <td>69245.0</td>\n",
       "      <td>0</td>\n",
       "      <td>8</td>\n",
       "      <td>3.0</td>\n",
       "      <td>0.0</td>\n",
       "      <td>0.0</td>\n",
       "      <td>65.0</td>\n",
       "      <td>2807</td>\n",
       "      <td>843.000000</td>\n",
       "      <td>23.0</td>\n",
       "    </tr>\n",
       "    <tr>\n",
       "      <th>2239</th>\n",
       "      <td>4</td>\n",
       "      <td>3</td>\n",
       "      <td>52869.0</td>\n",
       "      <td>1</td>\n",
       "      <td>40</td>\n",
       "      <td>7.0</td>\n",
       "      <td>0.0</td>\n",
       "      <td>1.0</td>\n",
       "      <td>67.0</td>\n",
       "      <td>3273</td>\n",
       "      <td>172.000000</td>\n",
       "      <td>11.0</td>\n",
       "    </tr>\n",
       "  </tbody>\n",
       "</table>\n",
       "<p>2240 rows × 12 columns</p>\n",
       "</div>"
      ],
      "text/plain": [
       "      Education  Marital_Status   Income  Kidhome  Recency  NumWebVisitsMonth  \\\n",
       "0             2               4  58138.0        0       58                7.0   \n",
       "1             2               4  46344.0        1       38                5.0   \n",
       "2             2               5  71613.0        0       26                4.0   \n",
       "3             2               5  26646.0        1       26                6.0   \n",
       "4             4               3  58293.0        1       94                5.0   \n",
       "...         ...             ...      ...      ...      ...                ...   \n",
       "2235          2               3  61223.0        0       46                5.0   \n",
       "2236          4               5  64014.0        2       56                7.0   \n",
       "2237          2               2  56981.0        0       91                6.0   \n",
       "2238          3               5  69245.0        0        8                3.0   \n",
       "2239          4               3  52869.0        1       40                7.0   \n",
       "\n",
       "      Complain  all_Response   Age  CustomerDayLong          MNT  \\\n",
       "0          0.0           1.0  64.0             3314  1617.000000   \n",
       "1          0.0           0.0  67.0             2764    27.000000   \n",
       "2          0.0           0.0  56.0             2963   776.000000   \n",
       "3          0.0           0.0  37.0             2790    53.000000   \n",
       "4          0.0           0.0  40.0             2812   422.000000   \n",
       "...        ...           ...   ...              ...          ...   \n",
       "2235       0.0           0.0  54.0             3032  1294.524192   \n",
       "2236       0.0           1.0  75.0             2670   444.000000   \n",
       "2237       0.0           1.0  40.0             2806  1241.000000   \n",
       "2238       0.0           0.0  65.0             2807   843.000000   \n",
       "2239       0.0           1.0  67.0             3273   172.000000   \n",
       "\n",
       "      all_Purchases  \n",
       "0              25.0  \n",
       "1               6.0  \n",
       "2              21.0  \n",
       "3               8.0  \n",
       "4              19.0  \n",
       "...             ...  \n",
       "2235           18.0  \n",
       "2236           22.0  \n",
       "2237           19.0  \n",
       "2238           23.0  \n",
       "2239           11.0  \n",
       "\n",
       "[2240 rows x 12 columns]"
      ]
     },
     "execution_count": 102,
     "metadata": {},
     "output_type": "execute_result"
    }
   ],
   "source": [
    "# Importing the dataset\n",
    "df = pd.read_csv('market_prep.csv', sep=';')\n",
    "df\n",
    "#df = df.drop(['id'], axis=1)"
   ]
  },
  {
   "cell_type": "markdown",
   "id": "179c6c9d",
   "metadata": {},
   "source": [
    "Из категориальных переменных в датасете есть: статус, обьразование, все отклики на стратегию. эти данные уже есть закодированными, еще на этапе подготовки данных."
   ]
  },
  {
   "cell_type": "code",
   "execution_count": 103,
   "id": "8d31c6e8",
   "metadata": {
    "scrolled": true
   },
   "outputs": [
    {
     "data": {
      "text/html": [
       "<div>\n",
       "<style scoped>\n",
       "    .dataframe tbody tr th:only-of-type {\n",
       "        vertical-align: middle;\n",
       "    }\n",
       "\n",
       "    .dataframe tbody tr th {\n",
       "        vertical-align: top;\n",
       "    }\n",
       "\n",
       "    .dataframe thead th {\n",
       "        text-align: right;\n",
       "    }\n",
       "</style>\n",
       "<table border=\"1\" class=\"dataframe\">\n",
       "  <thead>\n",
       "    <tr style=\"text-align: right;\">\n",
       "      <th></th>\n",
       "      <th>Education</th>\n",
       "      <th>Marital_Status</th>\n",
       "      <th>Income</th>\n",
       "      <th>Kidhome</th>\n",
       "      <th>Recency</th>\n",
       "      <th>NumWebVisitsMonth</th>\n",
       "      <th>Complain</th>\n",
       "      <th>all_Response</th>\n",
       "      <th>Age</th>\n",
       "      <th>CustomerDayLong</th>\n",
       "      <th>MNT</th>\n",
       "      <th>all_Purchases</th>\n",
       "    </tr>\n",
       "  </thead>\n",
       "  <tbody>\n",
       "    <tr>\n",
       "      <th>count</th>\n",
       "      <td>2240.000000</td>\n",
       "      <td>2240.000000</td>\n",
       "      <td>2240.000000</td>\n",
       "      <td>2240.000000</td>\n",
       "      <td>2240.000000</td>\n",
       "      <td>2240.000000</td>\n",
       "      <td>2240.000000</td>\n",
       "      <td>2240.000000</td>\n",
       "      <td>2240.000000</td>\n",
       "      <td>2240.000000</td>\n",
       "      <td>2240.000000</td>\n",
       "      <td>2240.000000</td>\n",
       "    </tr>\n",
       "    <tr>\n",
       "      <th>mean</th>\n",
       "      <td>2.393750</td>\n",
       "      <td>3.729911</td>\n",
       "      <td>51908.479018</td>\n",
       "      <td>0.444196</td>\n",
       "      <td>49.109375</td>\n",
       "      <td>5.297486</td>\n",
       "      <td>0.002799</td>\n",
       "      <td>0.424309</td>\n",
       "      <td>52.146625</td>\n",
       "      <td>3004.582143</td>\n",
       "      <td>599.622367</td>\n",
       "      <td>14.763082</td>\n",
       "    </tr>\n",
       "    <tr>\n",
       "      <th>std</th>\n",
       "      <td>1.124797</td>\n",
       "      <td>1.076277</td>\n",
       "      <td>21060.555522</td>\n",
       "      <td>0.538398</td>\n",
       "      <td>28.962453</td>\n",
       "      <td>2.343171</td>\n",
       "      <td>0.028777</td>\n",
       "      <td>0.802260</td>\n",
       "      <td>11.768185</td>\n",
       "      <td>202.122512</td>\n",
       "      <td>593.484182</td>\n",
       "      <td>7.546730</td>\n",
       "    </tr>\n",
       "    <tr>\n",
       "      <th>min</th>\n",
       "      <td>0.000000</td>\n",
       "      <td>0.000000</td>\n",
       "      <td>1730.000000</td>\n",
       "      <td>0.000000</td>\n",
       "      <td>0.000000</td>\n",
       "      <td>0.000000</td>\n",
       "      <td>0.000000</td>\n",
       "      <td>0.000000</td>\n",
       "      <td>25.000000</td>\n",
       "      <td>2651.000000</td>\n",
       "      <td>5.000000</td>\n",
       "      <td>0.000000</td>\n",
       "    </tr>\n",
       "    <tr>\n",
       "      <th>25%</th>\n",
       "      <td>2.000000</td>\n",
       "      <td>3.000000</td>\n",
       "      <td>35538.750000</td>\n",
       "      <td>0.000000</td>\n",
       "      <td>24.000000</td>\n",
       "      <td>3.000000</td>\n",
       "      <td>0.000000</td>\n",
       "      <td>0.000000</td>\n",
       "      <td>44.000000</td>\n",
       "      <td>2831.750000</td>\n",
       "      <td>68.750000</td>\n",
       "      <td>8.000000</td>\n",
       "    </tr>\n",
       "    <tr>\n",
       "      <th>50%</th>\n",
       "      <td>2.000000</td>\n",
       "      <td>4.000000</td>\n",
       "      <td>51741.500000</td>\n",
       "      <td>0.000000</td>\n",
       "      <td>49.000000</td>\n",
       "      <td>6.000000</td>\n",
       "      <td>0.000000</td>\n",
       "      <td>0.000000</td>\n",
       "      <td>51.000000</td>\n",
       "      <td>3006.500000</td>\n",
       "      <td>395.500000</td>\n",
       "      <td>15.000000</td>\n",
       "    </tr>\n",
       "    <tr>\n",
       "      <th>75%</th>\n",
       "      <td>3.000000</td>\n",
       "      <td>5.000000</td>\n",
       "      <td>68289.750000</td>\n",
       "      <td>1.000000</td>\n",
       "      <td>74.000000</td>\n",
       "      <td>7.000000</td>\n",
       "      <td>0.000000</td>\n",
       "      <td>1.000000</td>\n",
       "      <td>62.000000</td>\n",
       "      <td>3180.000000</td>\n",
       "      <td>1034.000000</td>\n",
       "      <td>21.000000</td>\n",
       "    </tr>\n",
       "    <tr>\n",
       "      <th>max</th>\n",
       "      <td>4.000000</td>\n",
       "      <td>7.000000</td>\n",
       "      <td>127766.000000</td>\n",
       "      <td>2.000000</td>\n",
       "      <td>99.000000</td>\n",
       "      <td>12.596453</td>\n",
       "      <td>0.298549</td>\n",
       "      <td>3.118505</td>\n",
       "      <td>88.146405</td>\n",
       "      <td>3350.000000</td>\n",
       "      <td>2497.622533</td>\n",
       "      <td>35.000000</td>\n",
       "    </tr>\n",
       "  </tbody>\n",
       "</table>\n",
       "</div>"
      ],
      "text/plain": [
       "         Education  Marital_Status         Income      Kidhome      Recency  \\\n",
       "count  2240.000000     2240.000000    2240.000000  2240.000000  2240.000000   \n",
       "mean      2.393750        3.729911   51908.479018     0.444196    49.109375   \n",
       "std       1.124797        1.076277   21060.555522     0.538398    28.962453   \n",
       "min       0.000000        0.000000    1730.000000     0.000000     0.000000   \n",
       "25%       2.000000        3.000000   35538.750000     0.000000    24.000000   \n",
       "50%       2.000000        4.000000   51741.500000     0.000000    49.000000   \n",
       "75%       3.000000        5.000000   68289.750000     1.000000    74.000000   \n",
       "max       4.000000        7.000000  127766.000000     2.000000    99.000000   \n",
       "\n",
       "       NumWebVisitsMonth     Complain  all_Response          Age  \\\n",
       "count        2240.000000  2240.000000   2240.000000  2240.000000   \n",
       "mean            5.297486     0.002799      0.424309    52.146625   \n",
       "std             2.343171     0.028777      0.802260    11.768185   \n",
       "min             0.000000     0.000000      0.000000    25.000000   \n",
       "25%             3.000000     0.000000      0.000000    44.000000   \n",
       "50%             6.000000     0.000000      0.000000    51.000000   \n",
       "75%             7.000000     0.000000      1.000000    62.000000   \n",
       "max            12.596453     0.298549      3.118505    88.146405   \n",
       "\n",
       "       CustomerDayLong          MNT  all_Purchases  \n",
       "count      2240.000000  2240.000000    2240.000000  \n",
       "mean       3004.582143   599.622367      14.763082  \n",
       "std         202.122512   593.484182       7.546730  \n",
       "min        2651.000000     5.000000       0.000000  \n",
       "25%        2831.750000    68.750000       8.000000  \n",
       "50%        3006.500000   395.500000      15.000000  \n",
       "75%        3180.000000  1034.000000      21.000000  \n",
       "max        3350.000000  2497.622533      35.000000  "
      ]
     },
     "execution_count": 103,
     "metadata": {},
     "output_type": "execute_result"
    }
   ],
   "source": [
    "df.describe()"
   ]
  },
  {
   "cell_type": "code",
   "execution_count": 104,
   "id": "a115c107",
   "metadata": {},
   "outputs": [],
   "source": [
    "df.loc[(df['all_Response']>= 1),'all_Response'] = 1"
   ]
  },
  {
   "cell_type": "code",
   "execution_count": 101,
   "id": "74dd5e09",
   "metadata": {
    "scrolled": true
   },
   "outputs": [
    {
     "data": {
      "text/plain": [
       "<AxesSubplot:ylabel='Frequency'>"
      ]
     },
     "execution_count": 101,
     "metadata": {},
     "output_type": "execute_result"
    },
    {
     "data": {
      "image/png": "[encoded data removed]",
      "text/plain": [
       "<Figure size 432x288 with 1 Axes>"
      ]
     },
     "metadata": {
      "needs_background": "light"
     },
     "output_type": "display_data"
    }
   ],
   "source": [
    "df['all_Response'].plot(kind = 'hist')"
   ]
  },
  {
   "cell_type": "markdown",
   "id": "be3dace6",
   "metadata": {},
   "source": [
    "Выборка достаточно несбалансированная, отношение приблизительно 1 к 3м. Однако это не столь критичное отношение, чтобы ради этого воспользоваться методом under sampling и уменьшить выборку. Изначала всего 2240 наблюдений, а объектов класса 1 около 500 лишь, то уменьшение выборки будет в 2 раза, что, на мой взгляд, может отразиться на результаты моделирования пагубно."
   ]
  },
  {
   "cell_type": "code",
   "execution_count": 105,
   "id": "93e3a6ac",
   "metadata": {},
   "outputs": [],
   "source": [
    "# Splitting the dataset into the Training set and Test set\n",
    "X = df.iloc[:, [0,1,2,3,4,5,6,8,9,10,11]] \n",
    "y = df['all_Response']\n",
    "from sklearn.model_selection import train_test_split\n",
    "X_train, X_test, y_train, y_test = train_test_split(X, y, test_size=0.2, random_state=13)"
   ]
  },
  {
   "cell_type": "code",
   "execution_count": 106,
   "id": "056315d7",
   "metadata": {},
   "outputs": [],
   "source": [
    "# Feature Scaling\n",
    "from sklearn.preprocessing import StandardScaler\n",
    "sc_X = StandardScaler().fit(X_train)\n",
    "X_train = sc_X.transform(X_train)\n",
    "X_test = sc_X.transform(X_test)"
   ]
  },
  {
   "cell_type": "markdown",
   "id": "fdb32081",
   "metadata": {},
   "source": [
    "## Feature Selection"
   ]
  },
  {
   "cell_type": "code",
   "execution_count": 107,
   "id": "94a4899b",
   "metadata": {},
   "outputs": [
    {
     "name": "stdout",
     "output_type": "stream",
     "text": [
      "Optimization terminated successfully.\n",
      "         Current function value: 0.599922\n",
      "         Iterations 6\n",
      "                         Results: Logit\n",
      "================================================================\n",
      "Model:              Logit            Pseudo R-squared: -0.012   \n",
      "Dependent Variable: all_Response     AIC:              2172.1207\n",
      "Date:               2021-11-28 13:06 BIC:              2232.5226\n",
      "No. Observations:   1792             Log-Likelihood:   -1075.1  \n",
      "Df Model:           10               LL-Null:          -1061.9  \n",
      "Df Residuals:       1781             LLR p-value:      1.0000   \n",
      "Converged:          1.0000           Scale:            1.0000   \n",
      "No. Iterations:     6.0000                                      \n",
      "------------------------------------------------------------------\n",
      "          Coef.    Std.Err.      z      P>|z|     [0.025    0.975]\n",
      "------------------------------------------------------------------\n",
      "x1        0.0555     0.0536    1.0350   0.3007   -0.0496    0.1606\n",
      "x2       -0.0055     0.0519   -0.1062   0.9155   -0.1072    0.0962\n",
      "x3        0.0916     0.1069    0.8569   0.3915   -0.1179    0.3011\n",
      "x4        0.0751     0.0654    1.1478   0.2510   -0.0531    0.2034\n",
      "x5       -0.2189     0.0526   -4.1632   0.0000   -0.3220   -0.1158\n",
      "x6        0.5256     0.0831    6.3247   0.0000    0.3627    0.6885\n",
      "x7       -0.0442     0.0529   -0.8339   0.4043   -0.1479    0.0596\n",
      "x8        0.0110     0.0562    0.1956   0.8449   -0.0992    0.1212\n",
      "x9       -0.0524     0.0595   -0.8810   0.3783   -0.1691    0.0642\n",
      "x10       1.4804     0.1301   11.3771   0.0000    1.2253    1.7354\n",
      "x11      -0.4428     0.0923   -4.7979   0.0000   -0.6237   -0.2619\n",
      "================================================================\n",
      "\n"
     ]
    }
   ],
   "source": [
    "# Baseline model\n",
    "import statsmodels.api as sm\n",
    "lr = sm.Logit(y_train, X_train).fit()\n",
    "print(lr.summary2())"
   ]
  },
  {
   "cell_type": "markdown",
   "id": "9222f84d",
   "metadata": {},
   "source": [
    "Исходя из этой таблицы, похоже, что значимы лишь:кол-во визитов в месяц, кол-во жалоб за последние 2 года, сумма покупок и кол-во покупок. Что косвенно указывает на то нравится ли покупателям данный магазин, его ассортимент, цены и т.д."
   ]
  },
  {
   "cell_type": "code",
   "execution_count": 108,
   "id": "60d83af6",
   "metadata": {},
   "outputs": [
    {
     "name": "stdout",
     "output_type": "stream",
     "text": [
      "1\n",
      "[False False False False False False False False False  True False]\n",
      "[ 6 11  5  8  3  2  7 10  9  1  4]\n"
     ]
    }
   ],
   "source": [
    "# Automatic Feature Selection\n",
    "from sklearn.feature_selection import RFECV\n",
    "from sklearn.linear_model import LogisticRegression\n",
    "estimator=LogisticRegression()\n",
    "selector=RFECV(estimator, step=1)\n",
    "selector=selector.fit(X_train, y_train)\n",
    "print(selector.n_features_)\n",
    "print(selector.support_)\n",
    "print(selector.ranking_)"
   ]
  },
  {
   "cell_type": "markdown",
   "id": "672959fc",
   "metadata": {},
   "source": [
    "## Fitting Logistic Regression"
   ]
  },
  {
   "cell_type": "code",
   "execution_count": 109,
   "id": "8a06cc4e",
   "metadata": {},
   "outputs": [],
   "source": [
    "# Leaving only Selected Features\n",
    "X_train_select=X_train[:,[False, False, False, False, True, True, False, False, False,  True, True]]\n",
    "X_test_select=X_test[:,[False, False, False, False, True, True, False, False, False,  True, True]]"
   ]
  },
  {
   "cell_type": "code",
   "execution_count": 110,
   "id": "eb211d79",
   "metadata": {},
   "outputs": [],
   "source": [
    "# Fitting Logistic Regression to the Training set (2 variables)\n",
    "from sklearn.linear_model import LogisticRegression\n",
    "lr = LogisticRegression().fit(X_train_select, y_train)"
   ]
  },
  {
   "cell_type": "code",
   "execution_count": 111,
   "id": "48558ec1",
   "metadata": {},
   "outputs": [
    {
     "data": {
      "text/plain": [
       "0.79"
      ]
     },
     "execution_count": 111,
     "metadata": {},
     "output_type": "execute_result"
    }
   ],
   "source": [
    "# Predicting the Test set results\n",
    "y_pred = lr.predict(X_test_select)\n",
    "lr.score(X_test_select,y_test).round(2)"
   ]
  },
  {
   "cell_type": "markdown",
   "id": "a3c9af31",
   "metadata": {},
   "source": [
    "Результат достаточно хороший. 79% распознаны моделью верно."
   ]
  },
  {
   "cell_type": "code",
   "execution_count": 112,
   "id": "01e5dfa9",
   "metadata": {
    "scrolled": true
   },
   "outputs": [
    {
     "name": "stdout",
     "output_type": "stream",
     "text": [
      "[[309  31]\n",
      " [ 61  47]]\n"
     ]
    }
   ],
   "source": [
    "# Making the Confusion Matrix\n",
    "from sklearn.metrics import confusion_matrix\n",
    "cm = confusion_matrix(y_test, y_pred)\n",
    "print(cm)"
   ]
  },
  {
   "cell_type": "markdown",
   "id": "9a270131",
   "metadata": {},
   "source": [
    "Проанализировав матрицу, можем сказать, что неверно распознанных элементов 92. \n",
    "Точность модели = 79.5%\n",
    "Специфичность = 91%\n",
    "Чувствительность = 43.5% \n",
    "Таким образом, можем сказать о том, что данная модель лучше выявляет тех клентов, которых интересуют условия той стратегии."
   ]
  },
  {
   "cell_type": "code",
   "execution_count": 73,
   "id": "f5d1c3ee",
   "metadata": {},
   "outputs": [],
   "source": [
    "import pickle\n",
    "obj = {'X_train': X_train[:,[False, False, False, False, True, True, False, False, False,  True, True]], \n",
    "       'X_test': X_test[:,[False, False, False, False, True, True, False, False, False,  True, True]],\n",
    "       'y_train': y_train,\n",
    "       'y_test': y_test}\n",
    "output = open('data_klast.pkl', 'wb')\n",
    "pickle.dump(obj, output, 2)\n",
    "output.close()"
   ]
  },
  {
   "cell_type": "code",
   "execution_count": null,
   "id": "046fce33",
   "metadata": {},
   "outputs": [],
   "source": []
  }
 ],
 "metadata": {
  "kernelspec": {
   "display_name": "Python 3",
   "language": "python",
   "name": "python3"
  },
  "language_info": {
   "codemirror_mode": {
    "name": "ipython",
    "version": 3
   },
   "file_extension": ".py",
   "mimetype": "text/x-python",
   "name": "python",
   "nbconvert_exporter": "python",
   "pygments_lexer": "ipython3",
   "version": "3.8.8"
  }
 },
 "nbformat": 4,
 "nbformat_minor": 5
}
