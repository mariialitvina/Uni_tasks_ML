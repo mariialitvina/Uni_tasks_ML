{
 "cells": [
  {
   "cell_type": "code",
   "execution_count": 90,
   "id": "1da69b54",
   "metadata": {},
   "outputs": [],
   "source": [
    "# Importing the libraries\n",
    "import numpy as np\n",
    "import matplotlib.pyplot as plt\n",
    "import pandas as pd"
   ]
  },
  {
   "cell_type": "code",
   "execution_count": 72,
   "id": "51efec0b",
   "metadata": {},
   "outputs": [],
   "source": [
    "# Importing prepared dataset\n",
    "import pickle\n",
    "input = open('data_klast.pkl', 'rb')\n",
    "obj = pickle.load(input)\n",
    "input.close()\n",
    "X_train = obj[\"X_train\"]\n",
    "X_test = obj[\"X_test\"]\n",
    "y_train = obj[\"y_train\"]\n",
    "y_test = obj[\"y_test\"]\n"
   ]
  },
  {
   "cell_type": "code",
   "execution_count": 73,
   "id": "a697a4c5",
   "metadata": {},
   "outputs": [],
   "source": [
    "# Install Tensorflow\n",
    "# Install Keras\n",
    "# Importing the Keras libraries and packages\n",
    "import keras\n",
    "from keras.models import Sequential\n",
    "from keras.layers import Dense"
   ]
  },
  {
   "cell_type": "code",
   "execution_count": 74,
   "id": "4cfea1f5",
   "metadata": {},
   "outputs": [],
   "source": [
    "# Initialising the ANN\n",
    "cnn = Sequential()\n",
    "\n",
    "# Adding the input layer and the first hidden layer\n",
    "cnn.add(Dense(4, activation = 'relu', input_dim = 4))\n",
    "\n",
    "# Adding the output layer\n",
    "cnn.add(Dense(2, activation = 'sigmoid'))\n",
    "\n",
    "# Adding the output layer\n",
    "cnn.add(Dense(1, activation = 'sigmoid'))\n",
    "\n",
    "# Compiling the ANN\n",
    "cnn.compile(optimizer = 'adam', loss = 'binary_crossentropy', metrics = ['accuracy'])"
   ]
  },
  {
   "cell_type": "code",
   "execution_count": 75,
   "id": "3bf15f03",
   "metadata": {},
   "outputs": [],
   "source": [
    "import sys\n",
    "sys.setrecursionlimit(10000)"
   ]
  },
  {
   "cell_type": "code",
   "execution_count": 76,
   "id": "9b116933",
   "metadata": {},
   "outputs": [
    {
     "name": "stdout",
     "output_type": "stream",
     "text": [
      "Epoch 1/100\n",
      "28/28 [==============================] - 0s 5ms/step - loss: 0.5768 - accuracy: 0.7204 - val_loss: 0.5365 - val_accuracy: 0.7589\n",
      "Epoch 2/100\n",
      "28/28 [==============================] - 0s 2ms/step - loss: 0.5734 - accuracy: 0.7204 - val_loss: 0.5329 - val_accuracy: 0.7589\n",
      "Epoch 3/100\n",
      "28/28 [==============================] - 0s 2ms/step - loss: 0.5698 - accuracy: 0.7204 - val_loss: 0.5291 - val_accuracy: 0.7589\n",
      "Epoch 4/100\n",
      "28/28 [==============================] - 0s 2ms/step - loss: 0.5660 - accuracy: 0.7204 - val_loss: 0.5249 - val_accuracy: 0.7589\n",
      "Epoch 5/100\n",
      "28/28 [==============================] - 0s 2ms/step - loss: 0.5619 - accuracy: 0.7204 - val_loss: 0.5203 - val_accuracy: 0.7589\n",
      "Epoch 6/100\n",
      "28/28 [==============================] - 0s 2ms/step - loss: 0.5577 - accuracy: 0.7204 - val_loss: 0.5150 - val_accuracy: 0.7589\n",
      "Epoch 7/100\n",
      "28/28 [==============================] - 0s 2ms/step - loss: 0.5535 - accuracy: 0.7204 - val_loss: 0.5108 - val_accuracy: 0.7589\n",
      "Epoch 8/100\n",
      "28/28 [==============================] - 0s 2ms/step - loss: 0.5494 - accuracy: 0.7204 - val_loss: 0.5062 - val_accuracy: 0.7589\n",
      "Epoch 9/100\n",
      "28/28 [==============================] - 0s 2ms/step - loss: 0.5456 - accuracy: 0.7204 - val_loss: 0.5017 - val_accuracy: 0.7589\n",
      "Epoch 10/100\n",
      "28/28 [==============================] - 0s 2ms/step - loss: 0.5420 - accuracy: 0.7204 - val_loss: 0.4981 - val_accuracy: 0.7589\n",
      "Epoch 11/100\n",
      "28/28 [==============================] - 0s 2ms/step - loss: 0.5389 - accuracy: 0.7204 - val_loss: 0.4946 - val_accuracy: 0.7589\n",
      "Epoch 12/100\n",
      "28/28 [==============================] - 0s 2ms/step - loss: 0.5361 - accuracy: 0.7204 - val_loss: 0.4918 - val_accuracy: 0.7589\n",
      "Epoch 13/100\n",
      "28/28 [==============================] - 0s 2ms/step - loss: 0.5337 - accuracy: 0.7204 - val_loss: 0.4889 - val_accuracy: 0.7589\n",
      "Epoch 14/100\n",
      "28/28 [==============================] - 0s 2ms/step - loss: 0.5316 - accuracy: 0.7204 - val_loss: 0.4870 - val_accuracy: 0.7589\n",
      "Epoch 15/100\n",
      "28/28 [==============================] - 0s 2ms/step - loss: 0.5295 - accuracy: 0.7204 - val_loss: 0.4848 - val_accuracy: 0.7589\n",
      "Epoch 16/100\n",
      "28/28 [==============================] - 0s 2ms/step - loss: 0.5277 - accuracy: 0.7204 - val_loss: 0.4825 - val_accuracy: 0.7589\n",
      "Epoch 17/100\n",
      "28/28 [==============================] - 0s 2ms/step - loss: 0.5261 - accuracy: 0.7204 - val_loss: 0.4808 - val_accuracy: 0.7589\n",
      "Epoch 18/100\n",
      "28/28 [==============================] - 0s 2ms/step - loss: 0.5243 - accuracy: 0.7204 - val_loss: 0.4792 - val_accuracy: 0.7589\n",
      "Epoch 19/100\n",
      "28/28 [==============================] - 0s 2ms/step - loss: 0.5230 - accuracy: 0.7204 - val_loss: 0.4777 - val_accuracy: 0.7589\n",
      "Epoch 20/100\n",
      "28/28 [==============================] - 0s 2ms/step - loss: 0.5217 - accuracy: 0.7204 - val_loss: 0.4760 - val_accuracy: 0.7589\n",
      "Epoch 21/100\n",
      "28/28 [==============================] - 0s 2ms/step - loss: 0.5204 - accuracy: 0.7204 - val_loss: 0.4745 - val_accuracy: 0.7589\n",
      "Epoch 22/100\n",
      "28/28 [==============================] - 0s 2ms/step - loss: 0.5192 - accuracy: 0.7204 - val_loss: 0.4736 - val_accuracy: 0.7589\n",
      "Epoch 23/100\n",
      "28/28 [==============================] - 0s 2ms/step - loss: 0.5181 - accuracy: 0.7204 - val_loss: 0.4725 - val_accuracy: 0.7589\n",
      "Epoch 24/100\n",
      "28/28 [==============================] - 0s 2ms/step - loss: 0.5172 - accuracy: 0.7204 - val_loss: 0.4717 - val_accuracy: 0.7589\n",
      "Epoch 25/100\n",
      "28/28 [==============================] - 0s 2ms/step - loss: 0.5162 - accuracy: 0.7204 - val_loss: 0.4707 - val_accuracy: 0.7589\n",
      "Epoch 26/100\n",
      "28/28 [==============================] - 0s 2ms/step - loss: 0.5153 - accuracy: 0.7204 - val_loss: 0.4699 - val_accuracy: 0.7589\n",
      "Epoch 27/100\n",
      "28/28 [==============================] - 0s 2ms/step - loss: 0.5144 - accuracy: 0.7210 - val_loss: 0.4687 - val_accuracy: 0.7589\n",
      "Epoch 28/100\n",
      "28/28 [==============================] - 0s 2ms/step - loss: 0.5137 - accuracy: 0.7271 - val_loss: 0.4682 - val_accuracy: 0.7656\n",
      "Epoch 29/100\n",
      "28/28 [==============================] - 0s 2ms/step - loss: 0.5128 - accuracy: 0.7316 - val_loss: 0.4671 - val_accuracy: 0.7768\n",
      "Epoch 30/100\n",
      "28/28 [==============================] - 0s 2ms/step - loss: 0.5121 - accuracy: 0.7372 - val_loss: 0.4663 - val_accuracy: 0.7835\n",
      "Epoch 31/100\n",
      "28/28 [==============================] - 0s 2ms/step - loss: 0.5115 - accuracy: 0.7467 - val_loss: 0.4659 - val_accuracy: 0.7790\n",
      "Epoch 32/100\n",
      "28/28 [==============================] - 0s 2ms/step - loss: 0.5107 - accuracy: 0.7539 - val_loss: 0.4652 - val_accuracy: 0.7902\n",
      "Epoch 33/100\n",
      "28/28 [==============================] - 0s 2ms/step - loss: 0.5100 - accuracy: 0.7589 - val_loss: 0.4644 - val_accuracy: 0.7969\n",
      "Epoch 34/100\n",
      "28/28 [==============================] - 0s 2ms/step - loss: 0.5094 - accuracy: 0.7584 - val_loss: 0.4635 - val_accuracy: 0.7991\n",
      "Epoch 35/100\n",
      "28/28 [==============================] - 0s 2ms/step - loss: 0.5087 - accuracy: 0.7595 - val_loss: 0.4631 - val_accuracy: 0.7991\n",
      "Epoch 36/100\n",
      "28/28 [==============================] - 0s 2ms/step - loss: 0.5081 - accuracy: 0.7651 - val_loss: 0.4628 - val_accuracy: 0.7946\n",
      "Epoch 37/100\n",
      "28/28 [==============================] - 0s 2ms/step - loss: 0.5075 - accuracy: 0.7667 - val_loss: 0.4623 - val_accuracy: 0.7946\n",
      "Epoch 38/100\n",
      "28/28 [==============================] - 0s 2ms/step - loss: 0.5068 - accuracy: 0.7684 - val_loss: 0.4613 - val_accuracy: 0.7969\n",
      "Epoch 39/100\n",
      "28/28 [==============================] - 0s 2ms/step - loss: 0.5063 - accuracy: 0.7706 - val_loss: 0.4611 - val_accuracy: 0.8013\n",
      "Epoch 40/100\n",
      "28/28 [==============================] - 0s 2ms/step - loss: 0.5057 - accuracy: 0.7723 - val_loss: 0.4602 - val_accuracy: 0.8036\n",
      "Epoch 41/100\n",
      "28/28 [==============================] - 0s 2ms/step - loss: 0.5051 - accuracy: 0.7729 - val_loss: 0.4601 - val_accuracy: 0.8080\n",
      "Epoch 42/100\n",
      "28/28 [==============================] - 0s 2ms/step - loss: 0.5045 - accuracy: 0.7706 - val_loss: 0.4603 - val_accuracy: 0.8058\n",
      "Epoch 43/100\n",
      "28/28 [==============================] - 0s 2ms/step - loss: 0.5040 - accuracy: 0.7690 - val_loss: 0.4593 - val_accuracy: 0.8080\n",
      "Epoch 44/100\n",
      "28/28 [==============================] - 0s 2ms/step - loss: 0.5033 - accuracy: 0.7662 - val_loss: 0.4593 - val_accuracy: 0.8058\n",
      "Epoch 45/100\n",
      "28/28 [==============================] - 0s 2ms/step - loss: 0.5027 - accuracy: 0.7667 - val_loss: 0.4592 - val_accuracy: 0.8058\n",
      "Epoch 46/100\n",
      "28/28 [==============================] - 0s 2ms/step - loss: 0.5022 - accuracy: 0.7701 - val_loss: 0.4589 - val_accuracy: 0.8058\n",
      "Epoch 47/100\n",
      "28/28 [==============================] - 0s 2ms/step - loss: 0.5018 - accuracy: 0.7706 - val_loss: 0.4592 - val_accuracy: 0.8058\n",
      "Epoch 48/100\n",
      "28/28 [==============================] - 0s 3ms/step - loss: 0.5012 - accuracy: 0.7723 - val_loss: 0.4585 - val_accuracy: 0.8080\n",
      "Epoch 49/100\n",
      "28/28 [==============================] - 0s 2ms/step - loss: 0.5007 - accuracy: 0.7723 - val_loss: 0.4580 - val_accuracy: 0.8103\n",
      "Epoch 50/100\n",
      "28/28 [==============================] - 0s 2ms/step - loss: 0.5003 - accuracy: 0.7740 - val_loss: 0.4576 - val_accuracy: 0.8125\n",
      "Epoch 51/100\n",
      "28/28 [==============================] - 0s 2ms/step - loss: 0.4998 - accuracy: 0.7734 - val_loss: 0.4575 - val_accuracy: 0.8103\n",
      "Epoch 52/100\n",
      "28/28 [==============================] - 0s 2ms/step - loss: 0.4994 - accuracy: 0.7718 - val_loss: 0.4575 - val_accuracy: 0.8103\n",
      "Epoch 53/100\n",
      "28/28 [==============================] - 0s 2ms/step - loss: 0.4990 - accuracy: 0.7712 - val_loss: 0.4573 - val_accuracy: 0.8103\n",
      "Epoch 54/100\n",
      "28/28 [==============================] - 0s 2ms/step - loss: 0.4987 - accuracy: 0.7712 - val_loss: 0.4569 - val_accuracy: 0.8103\n",
      "Epoch 55/100\n",
      "28/28 [==============================] - 0s 2ms/step - loss: 0.4984 - accuracy: 0.7706 - val_loss: 0.4570 - val_accuracy: 0.8080\n",
      "Epoch 56/100\n",
      "28/28 [==============================] - 0s 2ms/step - loss: 0.4980 - accuracy: 0.7706 - val_loss: 0.4563 - val_accuracy: 0.8058\n",
      "Epoch 57/100\n",
      "28/28 [==============================] - 0s 2ms/step - loss: 0.4977 - accuracy: 0.7712 - val_loss: 0.4564 - val_accuracy: 0.8080\n",
      "Epoch 58/100\n",
      "28/28 [==============================] - 0s 2ms/step - loss: 0.4974 - accuracy: 0.7712 - val_loss: 0.4564 - val_accuracy: 0.8058\n"
     ]
    },
    {
     "name": "stdout",
     "output_type": "stream",
     "text": [
      "Epoch 59/100\n",
      "28/28 [==============================] - 0s 2ms/step - loss: 0.4971 - accuracy: 0.7723 - val_loss: 0.4566 - val_accuracy: 0.8013\n",
      "Epoch 60/100\n",
      "28/28 [==============================] - 0s 2ms/step - loss: 0.4969 - accuracy: 0.7712 - val_loss: 0.4561 - val_accuracy: 0.8013\n",
      "Epoch 61/100\n",
      "28/28 [==============================] - 0s 2ms/step - loss: 0.4966 - accuracy: 0.7712 - val_loss: 0.4560 - val_accuracy: 0.8013\n",
      "Epoch 62/100\n",
      "28/28 [==============================] - 0s 2ms/step - loss: 0.4963 - accuracy: 0.7695 - val_loss: 0.4561 - val_accuracy: 0.8013\n",
      "Epoch 63/100\n",
      "28/28 [==============================] - 0s 2ms/step - loss: 0.4962 - accuracy: 0.7695 - val_loss: 0.4563 - val_accuracy: 0.8013\n",
      "Epoch 64/100\n",
      "28/28 [==============================] - 0s 2ms/step - loss: 0.4959 - accuracy: 0.7679 - val_loss: 0.4555 - val_accuracy: 0.8013\n",
      "Epoch 65/100\n",
      "28/28 [==============================] - 0s 2ms/step - loss: 0.4956 - accuracy: 0.7684 - val_loss: 0.4553 - val_accuracy: 0.7991\n",
      "Epoch 66/100\n",
      "28/28 [==============================] - 0s 2ms/step - loss: 0.4955 - accuracy: 0.7684 - val_loss: 0.4554 - val_accuracy: 0.8013\n",
      "Epoch 67/100\n",
      "28/28 [==============================] - 0s 2ms/step - loss: 0.4952 - accuracy: 0.7679 - val_loss: 0.4551 - val_accuracy: 0.8013\n",
      "Epoch 68/100\n",
      "28/28 [==============================] - 0s 2ms/step - loss: 0.4950 - accuracy: 0.7684 - val_loss: 0.4548 - val_accuracy: 0.8013\n",
      "Epoch 69/100\n",
      "28/28 [==============================] - 0s 2ms/step - loss: 0.4948 - accuracy: 0.7673 - val_loss: 0.4551 - val_accuracy: 0.8036\n",
      "Epoch 70/100\n",
      "28/28 [==============================] - 0s 2ms/step - loss: 0.4948 - accuracy: 0.7656 - val_loss: 0.4552 - val_accuracy: 0.8036\n",
      "Epoch 71/100\n",
      "28/28 [==============================] - 0s 2ms/step - loss: 0.4944 - accuracy: 0.7656 - val_loss: 0.4548 - val_accuracy: 0.8036\n",
      "Epoch 72/100\n",
      "28/28 [==============================] - 0s 2ms/step - loss: 0.4943 - accuracy: 0.7667 - val_loss: 0.4542 - val_accuracy: 0.8036\n",
      "Epoch 73/100\n",
      "28/28 [==============================] - 0s 2ms/step - loss: 0.4941 - accuracy: 0.7662 - val_loss: 0.4545 - val_accuracy: 0.8013\n",
      "Epoch 74/100\n",
      "28/28 [==============================] - 0s 2ms/step - loss: 0.4940 - accuracy: 0.7679 - val_loss: 0.4545 - val_accuracy: 0.7991\n",
      "Epoch 75/100\n",
      "28/28 [==============================] - 0s 2ms/step - loss: 0.4937 - accuracy: 0.7679 - val_loss: 0.4541 - val_accuracy: 0.7991\n",
      "Epoch 76/100\n",
      "28/28 [==============================] - 0s 2ms/step - loss: 0.4936 - accuracy: 0.7673 - val_loss: 0.4541 - val_accuracy: 0.7991\n",
      "Epoch 77/100\n",
      "28/28 [==============================] - 0s 2ms/step - loss: 0.4935 - accuracy: 0.7673 - val_loss: 0.4540 - val_accuracy: 0.7991\n",
      "Epoch 78/100\n",
      "28/28 [==============================] - 0s 2ms/step - loss: 0.4933 - accuracy: 0.7684 - val_loss: 0.4543 - val_accuracy: 0.7991\n",
      "Epoch 79/100\n",
      "28/28 [==============================] - 0s 2ms/step - loss: 0.4931 - accuracy: 0.7690 - val_loss: 0.4540 - val_accuracy: 0.7991\n",
      "Epoch 80/100\n",
      "28/28 [==============================] - 0s 2ms/step - loss: 0.4931 - accuracy: 0.7684 - val_loss: 0.4544 - val_accuracy: 0.7991\n",
      "Epoch 81/100\n",
      "28/28 [==============================] - 0s 2ms/step - loss: 0.4928 - accuracy: 0.7679 - val_loss: 0.4537 - val_accuracy: 0.8013\n",
      "Epoch 82/100\n",
      "28/28 [==============================] - 0s 2ms/step - loss: 0.4927 - accuracy: 0.7684 - val_loss: 0.4537 - val_accuracy: 0.8013\n",
      "Epoch 83/100\n",
      "28/28 [==============================] - 0s 2ms/step - loss: 0.4925 - accuracy: 0.7679 - val_loss: 0.4534 - val_accuracy: 0.8013\n",
      "Epoch 84/100\n",
      "28/28 [==============================] - 0s 2ms/step - loss: 0.4924 - accuracy: 0.7679 - val_loss: 0.4530 - val_accuracy: 0.8013\n",
      "Epoch 85/100\n",
      "28/28 [==============================] - 0s 2ms/step - loss: 0.4922 - accuracy: 0.7679 - val_loss: 0.4532 - val_accuracy: 0.8013\n",
      "Epoch 86/100\n",
      "28/28 [==============================] - 0s 2ms/step - loss: 0.4921 - accuracy: 0.7673 - val_loss: 0.4528 - val_accuracy: 0.8013\n",
      "Epoch 87/100\n",
      "28/28 [==============================] - 0s 2ms/step - loss: 0.4919 - accuracy: 0.7679 - val_loss: 0.4531 - val_accuracy: 0.8013\n",
      "Epoch 88/100\n",
      "28/28 [==============================] - 0s 2ms/step - loss: 0.4918 - accuracy: 0.7690 - val_loss: 0.4528 - val_accuracy: 0.8013\n",
      "Epoch 89/100\n",
      "28/28 [==============================] - 0s 2ms/step - loss: 0.4916 - accuracy: 0.7695 - val_loss: 0.4528 - val_accuracy: 0.8013\n",
      "Epoch 90/100\n",
      "28/28 [==============================] - 0s 2ms/step - loss: 0.4916 - accuracy: 0.7695 - val_loss: 0.4530 - val_accuracy: 0.7991\n",
      "Epoch 91/100\n",
      "28/28 [==============================] - 0s 2ms/step - loss: 0.4913 - accuracy: 0.7695 - val_loss: 0.4526 - val_accuracy: 0.7991\n",
      "Epoch 92/100\n",
      "28/28 [==============================] - 0s 2ms/step - loss: 0.4913 - accuracy: 0.7701 - val_loss: 0.4529 - val_accuracy: 0.7991\n",
      "Epoch 93/100\n",
      "28/28 [==============================] - 0s 2ms/step - loss: 0.4914 - accuracy: 0.7684 - val_loss: 0.4523 - val_accuracy: 0.8013\n",
      "Epoch 94/100\n",
      "28/28 [==============================] - 0s 2ms/step - loss: 0.4911 - accuracy: 0.7695 - val_loss: 0.4524 - val_accuracy: 0.7991\n",
      "Epoch 95/100\n",
      "28/28 [==============================] - 0s 2ms/step - loss: 0.4910 - accuracy: 0.7695 - val_loss: 0.4527 - val_accuracy: 0.8036\n",
      "Epoch 96/100\n",
      "28/28 [==============================] - 0s 2ms/step - loss: 0.4909 - accuracy: 0.7706 - val_loss: 0.4526 - val_accuracy: 0.8013\n",
      "Epoch 97/100\n",
      "28/28 [==============================] - 0s 2ms/step - loss: 0.4908 - accuracy: 0.7701 - val_loss: 0.4526 - val_accuracy: 0.8036\n",
      "Epoch 98/100\n",
      "28/28 [==============================] - 0s 2ms/step - loss: 0.4907 - accuracy: 0.7701 - val_loss: 0.4524 - val_accuracy: 0.8036\n",
      "Epoch 99/100\n",
      "28/28 [==============================] - 0s 2ms/step - loss: 0.4906 - accuracy: 0.7690 - val_loss: 0.4519 - val_accuracy: 0.8036\n",
      "Epoch 100/100\n",
      "28/28 [==============================] - 0s 2ms/step - loss: 0.4906 - accuracy: 0.7679 - val_loss: 0.4519 - val_accuracy: 0.8036\n"
     ]
    }
   ],
   "source": [
    "# Fitting the ANN to the Training set\n",
    "history = cnn.fit(X_train, y_train, batch_size = 64, epochs = 100, validation_data=(X_test, y_test))"
   ]
  },
  {
   "cell_type": "code",
   "execution_count": 77,
   "id": "19ce074f",
   "metadata": {},
   "outputs": [
    {
     "data": {
      "image/png": "[encoded data removed]",
      "text/plain": [
       "<Figure size 432x288 with 1 Axes>"
      ]
     },
     "metadata": {
      "needs_background": "light"
     },
     "output_type": "display_data"
    }
   ],
   "source": [
    "# Plotting loss & accuracy\n",
    "plt.figure()\n",
    "plt.plot(history.history['loss'])\n",
    "plt.plot(history.history['val_loss'])\n",
    "plt.title('model loss')\n",
    "plt.ylabel('loss')\n",
    "plt.xlabel('epoch')\n",
    "plt.legend(['train', 'test'], loc='best')\n",
    "plt.show()"
   ]
  },
  {
   "cell_type": "code",
   "execution_count": 70,
   "id": "55ae92f4",
   "metadata": {},
   "outputs": [],
   "source": [
    "# Predicting the Test set results\n",
    "y_pred = cnn.predict(X_test)\n",
    "y_pred = (y_pred > 0.5)"
   ]
  },
  {
   "cell_type": "code",
   "execution_count": 78,
   "id": "0248f512",
   "metadata": {
    "scrolled": false
   },
   "outputs": [
    {
     "name": "stdout",
     "output_type": "stream",
     "text": [
      "[[301  39]\n",
      " [ 51  57]]\n"
     ]
    }
   ],
   "source": [
    "# Making the Confusion Matrix\n",
    "from sklearn.metrics import confusion_matrix\n",
    "cm = confusion_matrix(y_test, y_pred)\n",
    "print(cm)"
   ]
  },
  {
   "cell_type": "markdown",
   "id": "e4fd187d",
   "metadata": {},
   "source": [
    "Проанализировав матрицу, можем сказать, что неверно распознанных элементов 90. Точность модели = 80% Специфичность = 88.5% Чувствительность = 53%. Не сказать, что сильно отличается от предыдущей модели по рузельтатам."
   ]
  },
  {
   "cell_type": "code",
   "execution_count": null,
   "id": "4b014165",
   "metadata": {},
   "outputs": [],
   "source": []
  }
 ],
 "metadata": {
  "kernelspec": {
   "display_name": "Python 3",
   "language": "python",
   "name": "python3"
  },
  "language_info": {
   "codemirror_mode": {
    "name": "ipython",
    "version": 3
   },
   "file_extension": ".py",
   "mimetype": "text/x-python",
   "name": "python",
   "nbconvert_exporter": "python",
   "pygments_lexer": "ipython3",
   "version": "3.8.8"
  }
 },
 "nbformat": 4,
 "nbformat_minor": 5
}
