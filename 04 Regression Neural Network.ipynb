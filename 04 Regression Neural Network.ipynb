{
 "cells": [
  {
   "cell_type": "markdown",
   "id": "1ee961c9",
   "metadata": {},
   "source": [
    "## Regression Neural Network"
   ]
  },
  {
   "cell_type": "code",
   "execution_count": 7,
   "id": "f1218a73",
   "metadata": {},
   "outputs": [],
   "source": [
    "#!pip3 install tensorflow\n",
    "#!pip3 install keras"
   ]
  },
  {
   "cell_type": "code",
   "execution_count": 17,
   "id": "c648479b",
   "metadata": {},
   "outputs": [],
   "source": [
    "# Importing the libraries\n",
    "import numpy as np\n",
    "import matplotlib.pyplot as plt\n",
    "import pandas as pd"
   ]
  },
  {
   "cell_type": "code",
   "execution_count": 36,
   "id": "87d04fcf",
   "metadata": {},
   "outputs": [],
   "source": [
    "# Importing prepared dataset\n",
    "import pickle\n",
    "input = open('data_reg.pkl', 'rb')\n",
    "obj = pickle.load(input)\n",
    "input.close()\n",
    "X_train = obj[\"X_train\"]\n",
    "X_test = obj[\"X_test\"]\n",
    "y_train = obj[\"y_train\"]\n",
    "y_test = obj[\"y_test\"]\n",
    "\n",
    "y_train = np.asarray(y_train).reshape(-1,1)\n",
    "y_test = np.asarray(y_test).reshape(-1,1)"
   ]
  },
  {
   "cell_type": "code",
   "execution_count": 37,
   "id": "64263058",
   "metadata": {
    "scrolled": true
   },
   "outputs": [
    {
     "data": {
      "text/html": [
       "<div>\n",
       "<style scoped>\n",
       "    .dataframe tbody tr th:only-of-type {\n",
       "        vertical-align: middle;\n",
       "    }\n",
       "\n",
       "    .dataframe tbody tr th {\n",
       "        vertical-align: top;\n",
       "    }\n",
       "\n",
       "    .dataframe thead th {\n",
       "        text-align: right;\n",
       "    }\n",
       "</style>\n",
       "<table border=\"1\" class=\"dataframe\">\n",
       "  <thead>\n",
       "    <tr style=\"text-align: right;\">\n",
       "      <th></th>\n",
       "      <th>NumWebVisitsMonth</th>\n",
       "      <th>all_Response</th>\n",
       "      <th>Age</th>\n",
       "      <th>all_Purchases</th>\n",
       "      <th>Education</th>\n",
       "    </tr>\n",
       "  </thead>\n",
       "  <tbody>\n",
       "    <tr>\n",
       "      <th>1313</th>\n",
       "      <td>2.0</td>\n",
       "      <td>0.0</td>\n",
       "      <td>66.0</td>\n",
       "      <td>26.000000</td>\n",
       "      <td>0</td>\n",
       "    </tr>\n",
       "    <tr>\n",
       "      <th>1263</th>\n",
       "      <td>8.0</td>\n",
       "      <td>0.0</td>\n",
       "      <td>61.0</td>\n",
       "      <td>8.000000</td>\n",
       "      <td>2</td>\n",
       "    </tr>\n",
       "    <tr>\n",
       "      <th>1009</th>\n",
       "      <td>6.0</td>\n",
       "      <td>0.0</td>\n",
       "      <td>58.0</td>\n",
       "      <td>4.000000</td>\n",
       "      <td>4</td>\n",
       "    </tr>\n",
       "    <tr>\n",
       "      <th>492</th>\n",
       "      <td>6.0</td>\n",
       "      <td>1.0</td>\n",
       "      <td>66.0</td>\n",
       "      <td>22.000000</td>\n",
       "      <td>2</td>\n",
       "    </tr>\n",
       "    <tr>\n",
       "      <th>1623</th>\n",
       "      <td>9.0</td>\n",
       "      <td>0.0</td>\n",
       "      <td>62.0</td>\n",
       "      <td>23.121713</td>\n",
       "      <td>2</td>\n",
       "    </tr>\n",
       "  </tbody>\n",
       "</table>\n",
       "</div>"
      ],
      "text/plain": [
       "      NumWebVisitsMonth  all_Response   Age  all_Purchases  Education\n",
       "1313                2.0           0.0  66.0      26.000000          0\n",
       "1263                8.0           0.0  61.0       8.000000          2\n",
       "1009                6.0           0.0  58.0       4.000000          4\n",
       "492                 6.0           1.0  66.0      22.000000          2\n",
       "1623                9.0           0.0  62.0      23.121713          2"
      ]
     },
     "execution_count": 37,
     "metadata": {},
     "output_type": "execute_result"
    }
   ],
   "source": [
    "X_train.head(5)"
   ]
  },
  {
   "cell_type": "markdown",
   "id": "8e9f1378",
   "metadata": {},
   "source": [
    "будет использовано 5 переменных: кол-во визитов, отклик на стратегию, возраст, кол-во покупок и образование."
   ]
  },
  {
   "cell_type": "markdown",
   "id": "1846a459",
   "metadata": {},
   "source": [
    "Для нейронных сетей необходимо шкалирование данных."
   ]
  },
  {
   "cell_type": "code",
   "execution_count": 38,
   "id": "893c67fa",
   "metadata": {},
   "outputs": [],
   "source": [
    "# Feature Scaling\n",
    "from sklearn.preprocessing import StandardScaler\n",
    "sc_X = StandardScaler().fit(X_train)\n",
    "X_train = sc_X.transform(X_train)\n",
    "X_test = sc_X.transform(X_test)\n",
    "sc_y = StandardScaler().fit(y_train)\n",
    "y_train = sc_y.transform(y_train)\n",
    "y_test = sc_y.transform(y_test)"
   ]
  },
  {
   "cell_type": "code",
   "execution_count": 39,
   "id": "eb890544",
   "metadata": {},
   "outputs": [],
   "source": [
    "# Importing the Keras libraries and packages\n",
    "import keras\n",
    "from keras.models import Sequential #сети с последовательной передачей сигнала\n",
    "from keras.layers import Dense  #для описания слоев нейронной сети"
   ]
  },
  {
   "cell_type": "code",
   "execution_count": 40,
   "id": "844bde20",
   "metadata": {},
   "outputs": [],
   "source": [
    "# Initialising the ANN\n",
    "rnn = Sequential()\n",
    "\n",
    "# Adding the input layer and the first hidden layer\n",
    "rnn.add(Dense(6, activation = 'tanh', input_dim = 5)) #на вход 5 переменных\n",
    "\n",
    "# Adding the second hidden layer\n",
    "rnn.add(Dense(4, activation = 'tanh'))\n",
    "\n",
    "# Adding the output layer\n",
    "rnn.add(Dense(1, activation = 'linear'))\n",
    "\n",
    "# Compiling the ANN\n",
    "rnn.compile(optimizer='adam', loss='mean_squared_error', metrics = ['accuracy'])"
   ]
  },
  {
   "cell_type": "code",
   "execution_count": 41,
   "id": "c0074113",
   "metadata": {},
   "outputs": [
    {
     "name": "stdout",
     "output_type": "stream",
     "text": [
      "Epoch 1/100\n",
      "224/224 [==============================] - 0s 807us/step - loss: 0.5733 - accuracy: 0.0000e+00\n",
      "Epoch 2/100\n",
      "224/224 [==============================] - 0s 791us/step - loss: 0.3429 - accuracy: 0.0000e+00\n",
      "Epoch 3/100\n",
      "224/224 [==============================] - 0s 736us/step - loss: 0.3251 - accuracy: 0.0000e+00\n",
      "Epoch 4/100\n",
      "224/224 [==============================] - 0s 795us/step - loss: 0.3184 - accuracy: 0.0000e+00\n",
      "Epoch 5/100\n",
      "224/224 [==============================] - 0s 749us/step - loss: 0.3133 - accuracy: 0.0000e+00\n",
      "Epoch 6/100\n",
      "224/224 [==============================] - 0s 786us/step - loss: 0.3084 - accuracy: 0.0000e+00\n",
      "Epoch 7/100\n",
      "224/224 [==============================] - 0s 813us/step - loss: 0.3054 - accuracy: 0.0000e+00\n",
      "Epoch 8/100\n",
      "224/224 [==============================] - 0s 781us/step - loss: 0.3020 - accuracy: 0.0000e+00\n",
      "Epoch 9/100\n",
      "224/224 [==============================] - 0s 791us/step - loss: 0.2996 - accuracy: 0.0000e+00\n",
      "Epoch 10/100\n",
      "224/224 [==============================] - 0s 818us/step - loss: 0.2975 - accuracy: 0.0000e+00\n",
      "Epoch 11/100\n",
      "224/224 [==============================] - 0s 780us/step - loss: 0.2949 - accuracy: 0.0000e+00\n",
      "Epoch 12/100\n",
      "224/224 [==============================] - 0s 792us/step - loss: 0.2928 - accuracy: 0.0000e+00\n",
      "Epoch 13/100\n",
      "224/224 [==============================] - 0s 821us/step - loss: 0.2907 - accuracy: 0.0000e+00\n",
      "Epoch 14/100\n",
      "224/224 [==============================] - 0s 798us/step - loss: 0.2896 - accuracy: 0.0000e+00\n",
      "Epoch 15/100\n",
      "224/224 [==============================] - 0s 773us/step - loss: 0.2876 - accuracy: 0.0000e+00\n",
      "Epoch 16/100\n",
      "224/224 [==============================] - 0s 802us/step - loss: 0.2863 - accuracy: 0.0000e+00\n",
      "Epoch 17/100\n",
      "224/224 [==============================] - 0s 787us/step - loss: 0.2854 - accuracy: 0.0000e+00\n",
      "Epoch 18/100\n",
      "224/224 [==============================] - 0s 745us/step - loss: 0.2836 - accuracy: 0.0000e+00\n",
      "Epoch 19/100\n",
      "224/224 [==============================] - 0s 753us/step - loss: 0.2828 - accuracy: 0.0000e+00\n",
      "Epoch 20/100\n",
      "224/224 [==============================] - 0s 759us/step - loss: 0.2811 - accuracy: 0.0000e+00\n",
      "Epoch 21/100\n",
      "224/224 [==============================] - 0s 775us/step - loss: 0.2805 - accuracy: 0.0000e+00\n",
      "Epoch 22/100\n",
      "224/224 [==============================] - 0s 813us/step - loss: 0.2783 - accuracy: 0.0000e+00\n",
      "Epoch 23/100\n",
      "224/224 [==============================] - 0s 774us/step - loss: 0.2785 - accuracy: 0.0000e+00\n",
      "Epoch 24/100\n",
      "224/224 [==============================] - 0s 844us/step - loss: 0.2772 - accuracy: 0.0000e+00\n",
      "Epoch 25/100\n",
      "224/224 [==============================] - 0s 775us/step - loss: 0.2770 - accuracy: 0.0000e+00\n",
      "Epoch 26/100\n",
      "224/224 [==============================] - 0s 787us/step - loss: 0.2768 - accuracy: 0.0000e+00\n",
      "Epoch 27/100\n",
      "224/224 [==============================] - 0s 779us/step - loss: 0.2754 - accuracy: 0.0000e+00\n",
      "Epoch 28/100\n",
      "224/224 [==============================] - 0s 796us/step - loss: 0.2749 - accuracy: 0.0000e+00\n",
      "Epoch 29/100\n",
      "224/224 [==============================] - 0s 782us/step - loss: 0.2737 - accuracy: 0.0000e+00\n",
      "Epoch 30/100\n",
      "224/224 [==============================] - 0s 783us/step - loss: 0.2734 - accuracy: 0.0000e+00\n",
      "Epoch 31/100\n",
      "224/224 [==============================] - 0s 788us/step - loss: 0.2723 - accuracy: 0.0000e+00\n",
      "Epoch 32/100\n",
      "224/224 [==============================] - 0s 765us/step - loss: 0.2721 - accuracy: 0.0000e+00\n",
      "Epoch 33/100\n",
      "224/224 [==============================] - 0s 770us/step - loss: 0.2715 - accuracy: 0.0000e+00\n",
      "Epoch 34/100\n",
      "224/224 [==============================] - 0s 768us/step - loss: 0.2709 - accuracy: 0.0000e+00\n",
      "Epoch 35/100\n",
      "224/224 [==============================] - 0s 754us/step - loss: 0.2710 - accuracy: 0.0000e+00\n",
      "Epoch 36/100\n",
      "224/224 [==============================] - 0s 821us/step - loss: 0.2703 - accuracy: 0.0000e+00\n",
      "Epoch 37/100\n",
      "224/224 [==============================] - 0s 813us/step - loss: 0.2699 - accuracy: 0.0000e+00\n",
      "Epoch 38/100\n",
      "224/224 [==============================] - 0s 816us/step - loss: 0.2693 - accuracy: 0.0000e+00\n",
      "Epoch 39/100\n",
      "224/224 [==============================] - 0s 810us/step - loss: 0.2692 - accuracy: 0.0000e+00\n",
      "Epoch 40/100\n",
      "224/224 [==============================] - 0s 767us/step - loss: 0.2689 - accuracy: 0.0000e+00\n",
      "Epoch 41/100\n",
      "224/224 [==============================] - 0s 782us/step - loss: 0.2689 - accuracy: 0.0000e+00\n",
      "Epoch 42/100\n",
      "224/224 [==============================] - 0s 808us/step - loss: 0.2693 - accuracy: 0.0000e+00\n",
      "Epoch 43/100\n",
      "224/224 [==============================] - 0s 781us/step - loss: 0.2686 - accuracy: 0.0000e+00\n",
      "Epoch 44/100\n",
      "224/224 [==============================] - 0s 801us/step - loss: 0.2673 - accuracy: 0.0000e+00\n",
      "Epoch 45/100\n",
      "224/224 [==============================] - 0s 791us/step - loss: 0.2674 - accuracy: 0.0000e+00\n",
      "Epoch 46/100\n",
      "224/224 [==============================] - 0s 775us/step - loss: 0.2671 - accuracy: 0.0000e+00\n",
      "Epoch 47/100\n",
      "224/224 [==============================] - 0s 775us/step - loss: 0.2675 - accuracy: 0.0000e+00\n",
      "Epoch 48/100\n",
      "224/224 [==============================] - 0s 805us/step - loss: 0.2668 - accuracy: 0.0000e+00\n",
      "Epoch 49/100\n",
      "224/224 [==============================] - 0s 774us/step - loss: 0.2665 - accuracy: 0.0000e+00\n",
      "Epoch 50/100\n",
      "224/224 [==============================] - 0s 821us/step - loss: 0.2660 - accuracy: 0.0000e+00\n",
      "Epoch 51/100\n",
      "224/224 [==============================] - 0s 753us/step - loss: 0.2660 - accuracy: 0.0000e+00\n",
      "Epoch 52/100\n",
      "224/224 [==============================] - 0s 801us/step - loss: 0.2654 - accuracy: 0.0000e+00\n",
      "Epoch 53/100\n",
      "224/224 [==============================] - 0s 811us/step - loss: 0.2661 - accuracy: 0.0000e+00\n",
      "Epoch 54/100\n",
      "224/224 [==============================] - 0s 760us/step - loss: 0.2652 - accuracy: 0.0000e+00\n",
      "Epoch 55/100\n",
      "224/224 [==============================] - 0s 792us/step - loss: 0.2653 - accuracy: 0.0000e+00\n",
      "Epoch 56/100\n",
      "224/224 [==============================] - 0s 751us/step - loss: 0.2650 - accuracy: 0.0000e+00\n",
      "Epoch 57/100\n",
      "224/224 [==============================] - 0s 786us/step - loss: 0.2651 - accuracy: 0.0000e+00\n",
      "Epoch 58/100\n",
      "224/224 [==============================] - 0s 731us/step - loss: 0.2637 - accuracy: 0.0000e+00\n",
      "Epoch 59/100\n",
      "224/224 [==============================] - 0s 705us/step - loss: 0.2639 - accuracy: 0.0000e+00\n",
      "Epoch 60/100\n",
      "224/224 [==============================] - 0s 793us/step - loss: 0.2643 - accuracy: 0.0000e+00\n",
      "Epoch 61/100\n",
      "224/224 [==============================] - 0s 775us/step - loss: 0.2636 - accuracy: 0.0000e+00\n",
      "Epoch 62/100\n",
      "224/224 [==============================] - 0s 788us/step - loss: 0.2636 - accuracy: 0.0000e+00\n",
      "Epoch 63/100\n",
      "224/224 [==============================] - 0s 822us/step - loss: 0.2638 - accuracy: 0.0000e+00\n",
      "Epoch 64/100\n",
      "224/224 [==============================] - 0s 814us/step - loss: 0.2627 - accuracy: 0.0000e+00\n",
      "Epoch 65/100\n",
      "224/224 [==============================] - 0s 751us/step - loss: 0.2639 - accuracy: 0.0000e+00\n",
      "Epoch 66/100\n",
      "224/224 [==============================] - 0s 814us/step - loss: 0.2629 - accuracy: 0.0000e+00\n",
      "Epoch 67/100\n",
      "224/224 [==============================] - 0s 842us/step - loss: 0.2632 - accuracy: 0.0000e+00\n",
      "Epoch 68/100\n",
      "224/224 [==============================] - 0s 772us/step - loss: 0.2622 - accuracy: 0.0000e+00\n",
      "Epoch 69/100\n",
      "224/224 [==============================] - 0s 786us/step - loss: 0.2631 - accuracy: 0.0000e+00\n",
      "Epoch 70/100\n",
      "224/224 [==============================] - 0s 763us/step - loss: 0.2623 - accuracy: 0.0000e+00\n",
      "Epoch 71/100\n",
      "224/224 [==============================] - 0s 821us/step - loss: 0.2614 - accuracy: 0.0000e+00\n",
      "Epoch 72/100\n",
      "224/224 [==============================] - 0s 736us/step - loss: 0.2623 - accuracy: 0.0000e+00\n",
      "Epoch 73/100\n",
      "224/224 [==============================] - 0s 792us/step - loss: 0.2610 - accuracy: 0.0000e+00\n",
      "Epoch 74/100\n",
      "224/224 [==============================] - 0s 807us/step - loss: 0.2616 - accuracy: 0.0000e+00\n",
      "Epoch 75/100\n",
      "224/224 [==============================] - 0s 818us/step - loss: 0.2616 - accuracy: 0.0000e+00\n",
      "Epoch 76/100\n",
      "224/224 [==============================] - 0s 781us/step - loss: 0.2616 - accuracy: 0.0000e+00\n"
     ]
    },
    {
     "name": "stdout",
     "output_type": "stream",
     "text": [
      "Epoch 77/100\n",
      "224/224 [==============================] - 0s 784us/step - loss: 0.2605 - accuracy: 0.0000e+00\n",
      "Epoch 78/100\n",
      "224/224 [==============================] - 0s 840us/step - loss: 0.2598 - accuracy: 0.0000e+00\n",
      "Epoch 79/100\n",
      "224/224 [==============================] - 0s 789us/step - loss: 0.2607 - accuracy: 0.0000e+00\n",
      "Epoch 80/100\n",
      "224/224 [==============================] - 0s 774us/step - loss: 0.2600 - accuracy: 0.0000e+00\n",
      "Epoch 81/100\n",
      "224/224 [==============================] - 0s 802us/step - loss: 0.2596 - accuracy: 0.0000e+00\n",
      "Epoch 82/100\n",
      "224/224 [==============================] - 0s 792us/step - loss: 0.2603 - accuracy: 0.0000e+00\n",
      "Epoch 83/100\n",
      "224/224 [==============================] - 0s 787us/step - loss: 0.2599 - accuracy: 0.0000e+00\n",
      "Epoch 84/100\n",
      "224/224 [==============================] - 0s 820us/step - loss: 0.2595 - accuracy: 0.0000e+00\n",
      "Epoch 85/100\n",
      "224/224 [==============================] - 0s 768us/step - loss: 0.2598 - accuracy: 0.0000e+00\n",
      "Epoch 86/100\n",
      "224/224 [==============================] - 0s 798us/step - loss: 0.2589 - accuracy: 0.0000e+00\n",
      "Epoch 87/100\n",
      "224/224 [==============================] - 0s 792us/step - loss: 0.2593 - accuracy: 0.0000e+00\n",
      "Epoch 88/100\n",
      "224/224 [==============================] - 0s 850us/step - loss: 0.2590 - accuracy: 0.0000e+00\n",
      "Epoch 89/100\n",
      "224/224 [==============================] - 0s 787us/step - loss: 0.2591 - accuracy: 0.0000e+00\n",
      "Epoch 90/100\n",
      "224/224 [==============================] - 0s 769us/step - loss: 0.2587 - accuracy: 0.0000e+00\n",
      "Epoch 91/100\n",
      "224/224 [==============================] - 0s 762us/step - loss: 0.2582 - accuracy: 0.0000e+00\n",
      "Epoch 92/100\n",
      "224/224 [==============================] - 0s 759us/step - loss: 0.2592 - accuracy: 0.0000e+00\n",
      "Epoch 93/100\n",
      "224/224 [==============================] - 0s 838us/step - loss: 0.2582 - accuracy: 0.0000e+00\n",
      "Epoch 94/100\n",
      "224/224 [==============================] - 0s 777us/step - loss: 0.2576 - accuracy: 0.0000e+00\n",
      "Epoch 95/100\n",
      "224/224 [==============================] - 0s 748us/step - loss: 0.2577 - accuracy: 0.0000e+00\n",
      "Epoch 96/100\n",
      "224/224 [==============================] - 0s 796us/step - loss: 0.2570 - accuracy: 0.0000e+00\n",
      "Epoch 97/100\n",
      "224/224 [==============================] - 0s 808us/step - loss: 0.2573 - accuracy: 0.0000e+00\n",
      "Epoch 98/100\n",
      "224/224 [==============================] - 0s 756us/step - loss: 0.2568 - accuracy: 0.0000e+00\n",
      "Epoch 99/100\n",
      "224/224 [==============================] - 0s 808us/step - loss: 0.2568 - accuracy: 0.0000e+00\n",
      "Epoch 100/100\n",
      "224/224 [==============================] - 0s 839us/step - loss: 0.2566 - accuracy: 0.0000e+00\n"
     ]
    },
    {
     "data": {
      "text/plain": [
       "<keras.callbacks.History at 0x1d2b7bb1c40>"
      ]
     },
     "execution_count": 41,
     "metadata": {},
     "output_type": "execute_result"
    }
   ],
   "source": [
    "# Fitting the ANN to the Training set\n",
    "rnn.fit(X_train, y_train, batch_size = 8, epochs = 100)"
   ]
  },
  {
   "cell_type": "code",
   "execution_count": 42,
   "id": "98777004",
   "metadata": {},
   "outputs": [],
   "source": [
    "# Predicting the Test set results\n",
    "y_pred = rnn.predict(X_test)"
   ]
  },
  {
   "cell_type": "code",
   "execution_count": 43,
   "id": "3f102607",
   "metadata": {},
   "outputs": [],
   "source": [
    "# Inversing scaling\n",
    "from sklearn.preprocessing import StandardScaler\n",
    "y_hat = sc_y.inverse_transform(y_pred)\n",
    "y_test = sc_y.inverse_transform(y_test)\n",
    "X_test = sc_X.inverse_transform(X_test)"
   ]
  },
  {
   "cell_type": "code",
   "execution_count": 44,
   "id": "d5dac32e",
   "metadata": {},
   "outputs": [
    {
     "data": {
      "text/plain": [
       "(10722.681120157764, 10423.820440874448)"
      ]
     },
     "execution_count": 44,
     "metadata": {},
     "output_type": "execute_result"
    }
   ],
   "source": [
    "from math import sqrt\n",
    "from sklearn.metrics import mean_squared_error\n",
    "sqrt(mean_squared_error(sc_y.inverse_transform(y_train), sc_y.inverse_transform(rnn.predict(X_train)))), sqrt(mean_squared_error(y_test, y_hat))"
   ]
  },
  {
   "cell_type": "markdown",
   "id": "268c53e6",
   "metadata": {},
   "source": [
    "Сеть не переобучена.\n",
    "Ошибка стала меньше, чем в продыдущих рассмотренных моделях моделях."
   ]
  },
  {
   "cell_type": "code",
   "execution_count": 45,
   "id": "0295249c",
   "metadata": {
    "scrolled": true
   },
   "outputs": [
    {
     "data": {
      "image/png": "[encoded data removed]",
      "text/plain": [
       "<Figure size 432x288 with 1 Axes>"
      ]
     },
     "metadata": {
      "needs_background": "light"
     },
     "output_type": "display_data"
    }
   ],
   "source": [
    "# Visualising the Test set results\n",
    "plt.scatter(X_test[:,3], y_test, color = 'red')\n",
    "plt.plot(X_test[:,3], y_hat, 'bo')\n",
    "plt.title('Income vs all_Response (Test set)')\n",
    "plt.xlabel('all_Response')\n",
    "plt.ylabel('Income')\n",
    "plt.show()"
   ]
  },
  {
   "cell_type": "code",
   "execution_count": null,
   "id": "1e8dc113",
   "metadata": {},
   "outputs": [],
   "source": []
  }
 ],
 "metadata": {
  "kernelspec": {
   "display_name": "Python 3",
   "language": "python",
   "name": "python3"
  },
  "language_info": {
   "codemirror_mode": {
    "name": "ipython",
    "version": 3
   },
   "file_extension": ".py",
   "mimetype": "text/x-python",
   "name": "python",
   "nbconvert_exporter": "python",
   "pygments_lexer": "ipython3",
   "version": "3.8.8"
  }
 },
 "nbformat": 4,
 "nbformat_minor": 5
}
